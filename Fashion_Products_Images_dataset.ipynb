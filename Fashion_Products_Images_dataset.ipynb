{
  "nbformat": 4,
  "nbformat_minor": 0,
  "metadata": {
    "colab": {
      "name": "Fashion_Products_Images_dataset.ipynb",
      "provenance": []
    },
    "kernelspec": {
      "name": "python3",
      "display_name": "Python 3"
    },
    "accelerator": "GPU"
  },
  "cells": [
    {
      "cell_type": "markdown",
      "metadata": {
        "id": "U1ujkBfq1pOX"
      },
      "source": [
        "Multi Label Classifier on Fashion Products Dataset (Small)\n",
        "\n",
        "-https://www.kaggle.com/paramaggarwal/fashion-product-images-small"
      ]
    },
    {
      "cell_type": "code",
      "metadata": {
        "id": "Lij6ItfCoTg2",
        "colab": {
          "base_uri": "https://localhost:8080/"
        },
        "outputId": "9a44199c-f485-4e1f-bae8-964bdf18c7cb"
      },
      "source": [
        "#importing dataset on google colab through Kaggle API\n",
        "!pip install kaggle\n",
        "!mkdir .kaggle\n",
        "!mkdir ~/.kaggle\n",
        "\n",
        "import json\n",
        "token = {\"username\":\"changed\",\"key\":\"changed\"}\n",
        "\n",
        "with open('/content/.kaggle/kaggle.json', 'w') as file:\n",
        "    json.dump(token, file)\n",
        "\n",
        "!cp /content/.kaggle/kaggle.json ~/.kaggle/kaggle.json\n",
        "!chmod 600 /root/.kaggle/kaggle.json\n",
        "\n",
        "!kaggle datasets download -d paramaggarwal/fashion-product-images-small\n",
        "\n",
        "!ls"
      ],
      "execution_count": 1,
      "outputs": [
        {
          "output_type": "stream",
          "text": [
            "Requirement already satisfied: kaggle in /usr/local/lib/python3.7/dist-packages (1.5.10)\n",
            "Requirement already satisfied: six>=1.10 in /usr/local/lib/python3.7/dist-packages (from kaggle) (1.15.0)\n",
            "Requirement already satisfied: certifi in /usr/local/lib/python3.7/dist-packages (from kaggle) (2020.12.5)\n",
            "Requirement already satisfied: requests in /usr/local/lib/python3.7/dist-packages (from kaggle) (2.23.0)\n",
            "Requirement already satisfied: python-slugify in /usr/local/lib/python3.7/dist-packages (from kaggle) (4.0.1)\n",
            "Requirement already satisfied: python-dateutil in /usr/local/lib/python3.7/dist-packages (from kaggle) (2.8.1)\n",
            "Requirement already satisfied: tqdm in /usr/local/lib/python3.7/dist-packages (from kaggle) (4.41.1)\n",
            "Requirement already satisfied: urllib3 in /usr/local/lib/python3.7/dist-packages (from kaggle) (1.24.3)\n",
            "Requirement already satisfied: chardet<4,>=3.0.2 in /usr/local/lib/python3.7/dist-packages (from requests->kaggle) (3.0.4)\n",
            "Requirement already satisfied: idna<3,>=2.5 in /usr/local/lib/python3.7/dist-packages (from requests->kaggle) (2.10)\n",
            "Requirement already satisfied: text-unidecode>=1.3 in /usr/local/lib/python3.7/dist-packages (from python-slugify->kaggle) (1.3)\n",
            "Downloading fashion-product-images-small.zip to /content\n",
            " 97% 550M/565M [00:03<00:00, 180MB/s]\n",
            "100% 565M/565M [00:03<00:00, 161MB/s]\n",
            "fashion-product-images-small.zip  sample_data\n"
          ],
          "name": "stdout"
        }
      ]
    },
    {
      "cell_type": "code",
      "metadata": {
        "id": "otxNfi5tJ9zf",
        "colab": {
          "base_uri": "https://localhost:8080/"
        },
        "outputId": "a0bce289-0d2a-49d6-e172-6089b8ffd1cc"
      },
      "source": [
        "# Extracting Zip File\n",
        "from zipfile import ZipFile \n",
        "\n",
        "file_name = \"fashion-product-images-small.zip\"\n",
        "  \n",
        "with ZipFile(file_name, 'r') as zip: \n",
        "    \n",
        "    print('Extracting all the files now...') \n",
        "    zip.extractall() \n",
        "    print('Done!')"
      ],
      "execution_count": 2,
      "outputs": [
        {
          "output_type": "stream",
          "text": [
            "Extracting all the files now...\n",
            "Done!\n"
          ],
          "name": "stdout"
        }
      ]
    },
    {
      "cell_type": "code",
      "metadata": {
        "colab": {
          "base_uri": "https://localhost:8080/"
        },
        "id": "8nAYRtrm_T3J",
        "outputId": "ad8c5f3c-4f9c-4964-9920-bf6913805fb4"
      },
      "source": [
        "!ls"
      ],
      "execution_count": 3,
      "outputs": [
        {
          "output_type": "stream",
          "text": [
            "fashion-product-images-small.zip  myntradataset  styles.csv\n",
            "images\t\t\t\t  sample_data\n"
          ],
          "name": "stdout"
        }
      ]
    },
    {
      "cell_type": "code",
      "metadata": {
        "colab": {
          "base_uri": "https://localhost:8080/",
          "height": 241
        },
        "id": "8UpdrVR3NrKr",
        "outputId": "e312effd-e272-4df7-e17a-bf33d023becd"
      },
      "source": [
        "import pandas as pd\n",
        "\n",
        "df = pd.read_csv('styles.csv',error_bad_lines=False)\n",
        "\n",
        "df.head()"
      ],
      "execution_count": 4,
      "outputs": [
        {
          "output_type": "stream",
          "text": [
            "b'Skipping line 6044: expected 10 fields, saw 11\\nSkipping line 6569: expected 10 fields, saw 11\\nSkipping line 7399: expected 10 fields, saw 11\\nSkipping line 7939: expected 10 fields, saw 11\\nSkipping line 9026: expected 10 fields, saw 11\\nSkipping line 10264: expected 10 fields, saw 11\\nSkipping line 10427: expected 10 fields, saw 11\\nSkipping line 10905: expected 10 fields, saw 11\\nSkipping line 11373: expected 10 fields, saw 11\\nSkipping line 11945: expected 10 fields, saw 11\\nSkipping line 14112: expected 10 fields, saw 11\\nSkipping line 14532: expected 10 fields, saw 11\\nSkipping line 15076: expected 10 fields, saw 12\\nSkipping line 29906: expected 10 fields, saw 11\\nSkipping line 31625: expected 10 fields, saw 11\\nSkipping line 33020: expected 10 fields, saw 11\\nSkipping line 35748: expected 10 fields, saw 11\\nSkipping line 35962: expected 10 fields, saw 11\\nSkipping line 37770: expected 10 fields, saw 11\\nSkipping line 38105: expected 10 fields, saw 11\\nSkipping line 38275: expected 10 fields, saw 11\\nSkipping line 38404: expected 10 fields, saw 12\\n'\n"
          ],
          "name": "stderr"
        },
        {
          "output_type": "execute_result",
          "data": {
            "text/html": [
              "<div>\n",
              "<style scoped>\n",
              "    .dataframe tbody tr th:only-of-type {\n",
              "        vertical-align: middle;\n",
              "    }\n",
              "\n",
              "    .dataframe tbody tr th {\n",
              "        vertical-align: top;\n",
              "    }\n",
              "\n",
              "    .dataframe thead th {\n",
              "        text-align: right;\n",
              "    }\n",
              "</style>\n",
              "<table border=\"1\" class=\"dataframe\">\n",
              "  <thead>\n",
              "    <tr style=\"text-align: right;\">\n",
              "      <th></th>\n",
              "      <th>id</th>\n",
              "      <th>gender</th>\n",
              "      <th>masterCategory</th>\n",
              "      <th>subCategory</th>\n",
              "      <th>articleType</th>\n",
              "      <th>baseColour</th>\n",
              "      <th>season</th>\n",
              "      <th>year</th>\n",
              "      <th>usage</th>\n",
              "      <th>productDisplayName</th>\n",
              "    </tr>\n",
              "  </thead>\n",
              "  <tbody>\n",
              "    <tr>\n",
              "      <th>0</th>\n",
              "      <td>15970</td>\n",
              "      <td>Men</td>\n",
              "      <td>Apparel</td>\n",
              "      <td>Topwear</td>\n",
              "      <td>Shirts</td>\n",
              "      <td>Navy Blue</td>\n",
              "      <td>Fall</td>\n",
              "      <td>2011.0</td>\n",
              "      <td>Casual</td>\n",
              "      <td>Turtle Check Men Navy Blue Shirt</td>\n",
              "    </tr>\n",
              "    <tr>\n",
              "      <th>1</th>\n",
              "      <td>39386</td>\n",
              "      <td>Men</td>\n",
              "      <td>Apparel</td>\n",
              "      <td>Bottomwear</td>\n",
              "      <td>Jeans</td>\n",
              "      <td>Blue</td>\n",
              "      <td>Summer</td>\n",
              "      <td>2012.0</td>\n",
              "      <td>Casual</td>\n",
              "      <td>Peter England Men Party Blue Jeans</td>\n",
              "    </tr>\n",
              "    <tr>\n",
              "      <th>2</th>\n",
              "      <td>59263</td>\n",
              "      <td>Women</td>\n",
              "      <td>Accessories</td>\n",
              "      <td>Watches</td>\n",
              "      <td>Watches</td>\n",
              "      <td>Silver</td>\n",
              "      <td>Winter</td>\n",
              "      <td>2016.0</td>\n",
              "      <td>Casual</td>\n",
              "      <td>Titan Women Silver Watch</td>\n",
              "    </tr>\n",
              "    <tr>\n",
              "      <th>3</th>\n",
              "      <td>21379</td>\n",
              "      <td>Men</td>\n",
              "      <td>Apparel</td>\n",
              "      <td>Bottomwear</td>\n",
              "      <td>Track Pants</td>\n",
              "      <td>Black</td>\n",
              "      <td>Fall</td>\n",
              "      <td>2011.0</td>\n",
              "      <td>Casual</td>\n",
              "      <td>Manchester United Men Solid Black Track Pants</td>\n",
              "    </tr>\n",
              "    <tr>\n",
              "      <th>4</th>\n",
              "      <td>53759</td>\n",
              "      <td>Men</td>\n",
              "      <td>Apparel</td>\n",
              "      <td>Topwear</td>\n",
              "      <td>Tshirts</td>\n",
              "      <td>Grey</td>\n",
              "      <td>Summer</td>\n",
              "      <td>2012.0</td>\n",
              "      <td>Casual</td>\n",
              "      <td>Puma Men Grey T-shirt</td>\n",
              "    </tr>\n",
              "  </tbody>\n",
              "</table>\n",
              "</div>"
            ],
            "text/plain": [
              "      id gender  ...   usage                             productDisplayName\n",
              "0  15970    Men  ...  Casual               Turtle Check Men Navy Blue Shirt\n",
              "1  39386    Men  ...  Casual             Peter England Men Party Blue Jeans\n",
              "2  59263  Women  ...  Casual                       Titan Women Silver Watch\n",
              "3  21379    Men  ...  Casual  Manchester United Men Solid Black Track Pants\n",
              "4  53759    Men  ...  Casual                          Puma Men Grey T-shirt\n",
              "\n",
              "[5 rows x 10 columns]"
            ]
          },
          "metadata": {
            "tags": []
          },
          "execution_count": 4
        }
      ]
    },
    {
      "cell_type": "code",
      "metadata": {
        "colab": {
          "base_uri": "https://localhost:8080/"
        },
        "id": "ichW5ZJ8NrjZ",
        "outputId": "86219114-9cc0-47ea-87ff-1aebed36b821"
      },
      "source": [
        "df = df.dropna()\n",
        "df.nunique()\n",
        "df.columns"
      ],
      "execution_count": 5,
      "outputs": [
        {
          "output_type": "execute_result",
          "data": {
            "text/plain": [
              "Index(['id', 'gender', 'masterCategory', 'subCategory', 'articleType',\n",
              "       'baseColour', 'season', 'year', 'usage', 'productDisplayName'],\n",
              "      dtype='object')"
            ]
          },
          "metadata": {
            "tags": []
          },
          "execution_count": 5
        }
      ]
    },
    {
      "cell_type": "code",
      "metadata": {
        "colab": {
          "base_uri": "https://localhost:8080/"
        },
        "id": "Iwq2sDr1ypwK",
        "outputId": "b202ac0b-ac06-4684-bf90-417e046c4558"
      },
      "source": [
        "# Looking at all the unique labels in all categorical columns \n",
        "cat_columns = ['gender', 'masterCategory', 'subCategory', 'articleType','baseColour', 'season', 'year', 'usage']\n",
        "\n",
        "for col in cat_columns:\n",
        "    print(col)\n",
        "    print(df[col].unique())\n",
        "    print('-------------------------')"
      ],
      "execution_count": 6,
      "outputs": [
        {
          "output_type": "stream",
          "text": [
            "gender\n",
            "['Men' 'Women' 'Boys' 'Girls' 'Unisex']\n",
            "-------------------------\n",
            "masterCategory\n",
            "['Apparel' 'Accessories' 'Footwear' 'Personal Care' 'Free Items'\n",
            " 'Sporting Goods' 'Home']\n",
            "-------------------------\n",
            "subCategory\n",
            "['Topwear' 'Bottomwear' 'Watches' 'Socks' 'Shoes' 'Belts' 'Flip Flops'\n",
            " 'Bags' 'Innerwear' 'Sandal' 'Shoe Accessories' 'Fragrance' 'Jewellery'\n",
            " 'Lips' 'Saree' 'Eyewear' 'Scarves' 'Dress' 'Loungewear and Nightwear'\n",
            " 'Wallets' 'Apparel Set' 'Headwear' 'Mufflers' 'Skin Care' 'Makeup'\n",
            " 'Free Gifts' 'Ties' 'Accessories' 'Nails' 'Beauty Accessories'\n",
            " 'Water Bottle' 'Skin' 'Eyes' 'Bath and Body' 'Gloves'\n",
            " 'Sports Accessories' 'Cufflinks' 'Sports Equipment' 'Stoles' 'Hair'\n",
            " 'Perfumes' 'Home Furnishing' 'Umbrellas' 'Wristbands' 'Vouchers']\n",
            "-------------------------\n",
            "articleType\n",
            "['Shirts' 'Jeans' 'Watches' 'Track Pants' 'Tshirts' 'Socks' 'Casual Shoes'\n",
            " 'Belts' 'Flip Flops' 'Handbags' 'Tops' 'Bra' 'Sandals' 'Shoe Accessories'\n",
            " 'Sweatshirts' 'Deodorant' 'Formal Shoes' 'Bracelet' 'Lipstick' 'Flats'\n",
            " 'Kurtas' 'Waistcoat' 'Sports Shoes' 'Shorts' 'Briefs' 'Sarees'\n",
            " 'Perfume and Body Mist' 'Heels' 'Sunglasses' 'Innerwear Vests' 'Pendant'\n",
            " 'Laptop Bag' 'Scarves' 'Dresses' 'Night suits' 'Skirts' 'Wallets'\n",
            " 'Blazers' 'Ring' 'Kurta Sets' 'Clutches' 'Shrug' 'Backpacks' 'Caps'\n",
            " 'Trousers' 'Earrings' 'Camisoles' 'Boxers' 'Jewellery Set' 'Dupatta'\n",
            " 'Capris' 'Lip Gloss' 'Bath Robe' 'Mufflers' 'Tunics' 'Jackets' 'Trunk'\n",
            " 'Lounge Pants' 'Face Wash and Cleanser' 'Necklace and Chains'\n",
            " 'Duffel Bag' 'Sports Sandals' 'Foundation and Primer' 'Sweaters'\n",
            " 'Free Gifts' 'Trolley Bag' 'Tracksuits' 'Swimwear' 'Shoe Laces'\n",
            " 'Fragrance Gift Set' 'Bangle' 'Nightdress' 'Ties' 'Baby Dolls' 'Leggings'\n",
            " 'Highlighter and Blush' 'Travel Accessory' 'Kurtis' 'Mobile Pouch'\n",
            " 'Messenger Bag' 'Lip Care' 'Nail Polish' 'Eye Cream' 'Accessory Gift Set'\n",
            " 'Beauty Accessory' 'Jumpsuit' 'Kajal and Eyeliner' 'Water Bottle'\n",
            " 'Suspenders' 'Face Moisturisers' 'Lip Liner' 'Robe' 'Salwar and Dupatta'\n",
            " 'Patiala' 'Stockings' 'Eyeshadow' 'Headband' 'Tights' 'Nail Essentials'\n",
            " 'Churidar' 'Lounge Tshirts' 'Face Scrub and Exfoliator' 'Lounge Shorts'\n",
            " 'Gloves' 'Wristbands' 'Tablet Sleeve' 'Ties and Cufflinks' 'Footballs'\n",
            " 'Compact' 'Stoles' 'Shapewear' 'Nehru Jackets' 'Salwar' 'Cufflinks'\n",
            " 'Jeggings' 'Hair Colour' 'Concealer' 'Rompers' 'Sunscreen' 'Booties'\n",
            " 'Mask and Peel' 'Waist Pouch' 'Hair Accessory' 'Body Lotion' 'Rucksacks'\n",
            " 'Basketballs' 'Lehenga Choli' 'Clothing Set' 'Mascara' 'Cushion Covers'\n",
            " 'Key chain' 'Rain Jacket' 'Toner' 'Lip Plumper' 'Umbrellas'\n",
            " 'Face Serum and Gel' 'Hat' 'Mens Grooming Kit' 'Makeup Remover'\n",
            " 'Body Wash and Scrub' 'Suits' 'Ipad']\n",
            "-------------------------\n",
            "baseColour\n",
            "['Navy Blue' 'Blue' 'Silver' 'Black' 'Grey' 'Green' 'Purple' 'White'\n",
            " 'Beige' 'Brown' 'Bronze' 'Teal' 'Copper' 'Pink' 'Off White' 'Maroon'\n",
            " 'Red' 'Khaki' 'Orange' 'Yellow' 'Charcoal' 'Gold' 'Steel' 'Tan' 'Multi'\n",
            " 'Magenta' 'Lavender' 'Sea Green' 'Cream' 'Peach' 'Olive' 'Skin'\n",
            " 'Burgundy' 'Coffee Brown' 'Grey Melange' 'Rust' 'Rose' 'Lime Green'\n",
            " 'Mauve' 'Turquoise Blue' 'Metallic' 'Mustard' 'Taupe' 'Nude'\n",
            " 'Mushroom Brown' 'Fluorescent Green']\n",
            "-------------------------\n",
            "season\n",
            "['Fall' 'Summer' 'Winter' 'Spring']\n",
            "-------------------------\n",
            "year\n",
            "[2011. 2012. 2016. 2017. 2015. 2014. 2010. 2013. 2018. 2019. 2007. 2009.\n",
            " 2008.]\n",
            "-------------------------\n",
            "usage\n",
            "['Casual' 'Ethnic' 'Formal' 'Sports' 'Smart Casual' 'Travel' 'Party'\n",
            " 'Home']\n",
            "-------------------------\n"
          ],
          "name": "stdout"
        }
      ]
    },
    {
      "cell_type": "markdown",
      "metadata": {
        "id": "a5AA6MNu58Rl"
      },
      "source": [
        "The images in this Dataset are very low resolution (80x60).\n",
        "We will be using the categories that are visually distinct even at such a low resolution. \n",
        "\n",
        "The categories we will use are articleType and baseColour.\n",
        "\n",
        "There are many unique labels in these categories, we will only be using the ones with more than 1000 examples "
      ]
    },
    {
      "cell_type": "code",
      "metadata": {
        "colab": {
          "base_uri": "https://localhost:8080/"
        },
        "id": "SDerF7kBr6KC",
        "outputId": "6ec03ec4-e135-41e0-d8dc-bb6d1a09faa0"
      },
      "source": [
        "value_counts = df['articleType'].value_counts()\n",
        "\n",
        "indexes = value_counts.index\n",
        "\n",
        "values = value_counts.values\n",
        "\n",
        "for i in range(len(value_counts)):\n",
        "\n",
        "    if values[i] <1000:\n",
        "        break\n",
        "\n",
        "types_used = indexes[:i]\n",
        "print('Article types used: ',types_used)"
      ],
      "execution_count": 25,
      "outputs": [
        {
          "output_type": "stream",
          "text": [
            "Article types used: Index(['Tshirts', 'Shirts', 'Casual Shoes', 'Watches', 'Sports Shoes', 'Tops',\n",
            "       'Handbags', 'Kurtas'],\n",
            "      dtype='object')\n"
          ],
          "name": "stdout"
        }
      ]
    },
    {
      "cell_type": "code",
      "metadata": {
        "colab": {
          "base_uri": "https://localhost:8080/"
        },
        "id": "e1voV18KqCbM",
        "outputId": "2761c186-1e3d-4f22-ddea-398c6aecffd7"
      },
      "source": [
        "value_counts = df['baseColour'].value_counts()\n",
        "\n",
        "indexes = value_counts.index\n",
        "\n",
        "values = value_counts.values\n",
        "\n",
        "for i in range(len(value_counts)):\n",
        "\n",
        "    if values[i] <1000:\n",
        "        break\n",
        "\n",
        "colours_used = indexes[:i]\n",
        "print('Base Colours used: ',colours_used)"
      ],
      "execution_count": 26,
      "outputs": [
        {
          "output_type": "stream",
          "text": [
            "Base Colours used:  Index(['Black', 'White', 'Blue', 'Brown', 'Grey', 'Red', 'Green', 'Purple'], dtype='object')\n"
          ],
          "name": "stdout"
        }
      ]
    },
    {
      "cell_type": "code",
      "metadata": {
        "id": "xAwPPQozqClF"
      },
      "source": [
        "# Removing all the examples with labels other than the selected ones\n",
        " \n",
        "df = df[df['articleType'].isin(types_used)]\n",
        "df = df[df['baseColour'].isin(colours_used)]"
      ],
      "execution_count": 9,
      "outputs": []
    },
    {
      "cell_type": "code",
      "metadata": {
        "colab": {
          "base_uri": "https://localhost:8080/"
        },
        "id": "2PaVOyFzqdd0",
        "outputId": "8d5c7ab1-36a5-41e1-dfe8-90d99d904b0f"
      },
      "source": [
        "#number of examples we are left with\n",
        "len(df)"
      ],
      "execution_count": 27,
      "outputs": [
        {
          "output_type": "execute_result",
          "data": {
            "text/plain": [
              "21835"
            ]
          },
          "metadata": {
            "tags": []
          },
          "execution_count": 27
        }
      ]
    },
    {
      "cell_type": "code",
      "metadata": {
        "id": "fCNjGsefNrq-"
      },
      "source": [
        "data = []\n",
        "\n",
        "# Reading all the images and processing the data in them \n",
        "\n",
        "from tensorflow.keras.preprocessing.image import img_to_array\n",
        "import cv2\n",
        "\n",
        "IX = 80\n",
        "IY = 60\n",
        "\n",
        "invalid_ids = []\n",
        "\n",
        "for name in df.id:\n",
        "\n",
        "    try:\n",
        "        image = cv2.imread('images/'+str(name)+'.jpg')\n",
        "        image = cv2.resize(image, (IX,IY) )\n",
        "        image = img_to_array(image)\n",
        "        data.append(image)        \n",
        "    except: \n",
        "        # Images for certain ids are missing, so they are not added to the dataset  \n",
        "        invalid_ids.append(name)\n",
        "    \n",
        "    \n"
      ],
      "execution_count": 12,
      "outputs": []
    },
    {
      "cell_type": "code",
      "metadata": {
        "colab": {
          "base_uri": "https://localhost:8080/"
        },
        "id": "QUp4-msvfjnt",
        "outputId": "8ccf7245-fd2a-404a-9a9f-84b99849588f"
      },
      "source": [
        "# ids of missing images\n",
        "print('invalid ids:')\n",
        "print(invalid_ids)"
      ],
      "execution_count": 13,
      "outputs": [
        {
          "output_type": "stream",
          "text": [
            "invalid ids:\n",
            "[39403, 39425]\n"
          ],
          "name": "stdout"
        }
      ]
    },
    {
      "cell_type": "code",
      "metadata": {
        "id": "FetSFwStfvJm"
      },
      "source": [
        "labels = []\n",
        "\n",
        "used_columns = ['subCategory','baseColour']\n",
        "\n",
        "# getting labels for the columns used\n",
        "\n",
        "for index, row in df.iterrows():\n",
        "\n",
        "    if row['id'] in invalid_ids:\n",
        "        continue\n",
        "\n",
        "    tags = []\n",
        "\n",
        "    for col in used_columns:\n",
        "        tags.append(row[col])\n",
        "\n",
        "    labels.append(tags)"
      ],
      "execution_count": 14,
      "outputs": []
    },
    {
      "cell_type": "code",
      "metadata": {
        "colab": {
          "base_uri": "https://localhost:8080/"
        },
        "id": "AtuGzzUpNr39",
        "outputId": "9a05ba1a-6fe8-40de-a438-e41cba727567"
      },
      "source": [
        "import numpy as np\n",
        "\n",
        "# converting data into numpy arrays\n",
        "\n",
        "data = np.array(data, dtype=\"float\") / 255.0\n",
        "labels = np.array(labels)\n",
        "\n",
        "print(labels)"
      ],
      "execution_count": 15,
      "outputs": [
        {
          "output_type": "stream",
          "text": [
            "[['Topwear' 'Navy Blue']\n",
            " ['Watches' 'Silver']\n",
            " ['Topwear' 'Grey']\n",
            " ...\n",
            " ['Shoes' 'White']\n",
            " ['Topwear' 'Blue']\n",
            " ['Watches' 'Pink']]\n"
          ],
          "name": "stdout"
        }
      ]
    },
    {
      "cell_type": "code",
      "metadata": {
        "colab": {
          "base_uri": "https://localhost:8080/"
        },
        "id": "i3vvj16Mizwe",
        "outputId": "913481a2-19d2-466b-cb38-4f17308a3800"
      },
      "source": [
        "from sklearn.preprocessing import MultiLabelBinarizer\n",
        "\n",
        "# creating a binary vector for the input labels \n",
        "\n",
        "mlb = MultiLabelBinarizer()\n",
        "labels = mlb.fit_transform(labels)\n",
        "\n",
        "print(mlb.classes_)\n",
        "print(labels[0])"
      ],
      "execution_count": 16,
      "outputs": [
        {
          "output_type": "stream",
          "text": [
            "['Bags' 'Belts' 'Black' 'Blue' 'Brown' 'Eyewear' 'Free Gifts' 'Green'\n",
            " 'Grey' 'Navy Blue' 'Pink' 'Purple' 'Red' 'Shoes' 'Silver' 'Topwear'\n",
            " 'Watches' 'White']\n",
            "[0 0 0 0 0 0 0 0 0 1 0 0 0 0 0 1 0 0]\n"
          ],
          "name": "stdout"
        }
      ]
    },
    {
      "cell_type": "code",
      "metadata": {
        "id": "QI340JWoiz2p"
      },
      "source": [
        "from tensorflow.keras.layers import Flatten\n",
        "from tensorflow.keras.layers import Dropout\n",
        "from tensorflow.keras.layers import Dense\n",
        "from tensorflow.keras.models import Sequential\n",
        "from tensorflow.keras.layers import Dense, Dropout, Activation, Flatten, Conv2D, MaxPooling2D\n",
        "\n",
        "inputShape = (IY, IX, 3)\n",
        "\n",
        "# A very simple sequential model is used since the images are very low resolution and the categories are fiarly distinct\n",
        "\n",
        "model = Sequential()\n",
        "\n",
        "model.add(Conv2D(32, (3, 3), padding=\"same\",input_shape=inputShape))\n",
        "model.add(Activation(\"relu\"))\n",
        "model.add(MaxPooling2D(pool_size=(2, 2)))\n",
        "model.add(Dropout(0.2))\n",
        "\n",
        "model.add(Conv2D(64, (3, 3)))\n",
        "model.add(Activation('relu'))\n",
        "model.add(MaxPooling2D(pool_size=(2, 2)))\n",
        "model.add(Dropout(0.2))\n",
        "\n",
        "model.add(Flatten()) \n",
        "\n",
        "model.add(Dense(128))\n",
        "model.add(Activation('sigmoid'))\n",
        "\n",
        "\n",
        "out = len(mlb.classes_)\n",
        "\n",
        "model.add(Dense(out))\n",
        "model.add(Activation('sigmoid')) # activation function for the final layer has to be sigmoid, since mutiple output labels can have value 1\n",
        "                    \n",
        "model.compile(loss='binary_crossentropy', # loss function has to be binary_crossentropy, it is calculated seperately for each of the outputs\n",
        "              optimizer='adam',\n",
        "              metrics=['mse'])"
      ],
      "execution_count": 28,
      "outputs": []
    },
    {
      "cell_type": "code",
      "metadata": {
        "id": "6lOTLHJbiz7K"
      },
      "source": [
        "\n",
        "from sklearn.model_selection import train_test_split\n",
        "\n",
        "# splitting data into testing and training set \n",
        "\n",
        "(trainX, testX, trainY, testY) = train_test_split(data,labels, test_size=0.1, random_state=42)"
      ],
      "execution_count": 29,
      "outputs": []
    },
    {
      "cell_type": "code",
      "metadata": {
        "id": "vWlLBjs2kB_r",
        "colab": {
          "base_uri": "https://localhost:8080/"
        },
        "outputId": "f2a83cb1-8f89-4db3-cd38-e3d0a1c5c581"
      },
      "source": [
        "batch = 32\n",
        "E = 50\n",
        "\n",
        "#training the model \n",
        "model.fit(x=trainX,y=trainY,\n",
        "          epochs=E ,verbose=1)"
      ],
      "execution_count": 30,
      "outputs": [
        {
          "output_type": "stream",
          "text": [
            "Epoch 1/50\n",
            "615/615 [==============================] - 5s 7ms/step - loss: 0.2873 - mse: 0.0828\n",
            "Epoch 2/50\n",
            "615/615 [==============================] - 4s 6ms/step - loss: 0.1188 - mse: 0.0326\n",
            "Epoch 3/50\n",
            "615/615 [==============================] - 4s 6ms/step - loss: 0.0928 - mse: 0.0257\n",
            "Epoch 4/50\n",
            "615/615 [==============================] - 4s 6ms/step - loss: 0.0821 - mse: 0.0230\n",
            "Epoch 5/50\n",
            "615/615 [==============================] - 4s 6ms/step - loss: 0.0778 - mse: 0.0218\n",
            "Epoch 6/50\n",
            "615/615 [==============================] - 4s 6ms/step - loss: 0.0717 - mse: 0.0202\n",
            "Epoch 7/50\n",
            "615/615 [==============================] - 4s 6ms/step - loss: 0.0672 - mse: 0.0189\n",
            "Epoch 8/50\n",
            "615/615 [==============================] - 4s 6ms/step - loss: 0.0643 - mse: 0.0181\n",
            "Epoch 9/50\n",
            "615/615 [==============================] - 4s 6ms/step - loss: 0.0616 - mse: 0.0173\n",
            "Epoch 10/50\n",
            "615/615 [==============================] - 4s 6ms/step - loss: 0.0580 - mse: 0.0164\n",
            "Epoch 11/50\n",
            "615/615 [==============================] - 4s 6ms/step - loss: 0.0563 - mse: 0.0158\n",
            "Epoch 12/50\n",
            "615/615 [==============================] - 4s 6ms/step - loss: 0.0525 - mse: 0.0148\n",
            "Epoch 13/50\n",
            "615/615 [==============================] - 4s 6ms/step - loss: 0.0516 - mse: 0.0146\n",
            "Epoch 14/50\n",
            "615/615 [==============================] - 4s 6ms/step - loss: 0.0483 - mse: 0.0135\n",
            "Epoch 15/50\n",
            "615/615 [==============================] - 4s 6ms/step - loss: 0.0488 - mse: 0.0137\n",
            "Epoch 16/50\n",
            "615/615 [==============================] - 4s 6ms/step - loss: 0.0451 - mse: 0.0126\n",
            "Epoch 17/50\n",
            "615/615 [==============================] - 4s 6ms/step - loss: 0.0406 - mse: 0.0113\n",
            "Epoch 18/50\n",
            "615/615 [==============================] - 4s 6ms/step - loss: 0.0404 - mse: 0.0112\n",
            "Epoch 19/50\n",
            "615/615 [==============================] - 4s 6ms/step - loss: 0.0366 - mse: 0.0101\n",
            "Epoch 20/50\n",
            "615/615 [==============================] - 4s 6ms/step - loss: 0.0369 - mse: 0.0103\n",
            "Epoch 21/50\n",
            "615/615 [==============================] - 4s 6ms/step - loss: 0.0335 - mse: 0.0092\n",
            "Epoch 22/50\n",
            "615/615 [==============================] - 4s 6ms/step - loss: 0.0328 - mse: 0.0090\n",
            "Epoch 23/50\n",
            "615/615 [==============================] - 4s 6ms/step - loss: 0.0309 - mse: 0.0084\n",
            "Epoch 24/50\n",
            "615/615 [==============================] - 4s 6ms/step - loss: 0.0300 - mse: 0.0081\n",
            "Epoch 25/50\n",
            "615/615 [==============================] - 4s 6ms/step - loss: 0.0285 - mse: 0.0077\n",
            "Epoch 26/50\n",
            "615/615 [==============================] - 4s 7ms/step - loss: 0.0262 - mse: 0.0070\n",
            "Epoch 27/50\n",
            "615/615 [==============================] - 4s 7ms/step - loss: 0.0261 - mse: 0.0070\n",
            "Epoch 28/50\n",
            "615/615 [==============================] - 4s 7ms/step - loss: 0.0247 - mse: 0.0066\n",
            "Epoch 29/50\n",
            "615/615 [==============================] - 4s 6ms/step - loss: 0.0244 - mse: 0.0065\n",
            "Epoch 30/50\n",
            "615/615 [==============================] - 4s 6ms/step - loss: 0.0228 - mse: 0.0061\n",
            "Epoch 31/50\n",
            "615/615 [==============================] - 4s 6ms/step - loss: 0.0218 - mse: 0.0058\n",
            "Epoch 32/50\n",
            "615/615 [==============================] - 4s 6ms/step - loss: 0.0207 - mse: 0.0054\n",
            "Epoch 33/50\n",
            "615/615 [==============================] - 4s 6ms/step - loss: 0.0195 - mse: 0.0051\n",
            "Epoch 34/50\n",
            "615/615 [==============================] - 4s 6ms/step - loss: 0.0201 - mse: 0.0053\n",
            "Epoch 35/50\n",
            "615/615 [==============================] - 4s 6ms/step - loss: 0.0194 - mse: 0.0050\n",
            "Epoch 36/50\n",
            "615/615 [==============================] - 4s 6ms/step - loss: 0.0172 - mse: 0.0044\n",
            "Epoch 37/50\n",
            "615/615 [==============================] - 4s 6ms/step - loss: 0.0169 - mse: 0.0044\n",
            "Epoch 38/50\n",
            "615/615 [==============================] - 4s 6ms/step - loss: 0.0158 - mse: 0.0040\n",
            "Epoch 39/50\n",
            "615/615 [==============================] - 4s 6ms/step - loss: 0.0160 - mse: 0.0041\n",
            "Epoch 40/50\n",
            "615/615 [==============================] - 4s 6ms/step - loss: 0.0164 - mse: 0.0043\n",
            "Epoch 41/50\n",
            "615/615 [==============================] - 4s 6ms/step - loss: 0.0155 - mse: 0.0041\n",
            "Epoch 42/50\n",
            "615/615 [==============================] - 4s 6ms/step - loss: 0.0150 - mse: 0.0039\n",
            "Epoch 43/50\n",
            "615/615 [==============================] - 4s 6ms/step - loss: 0.0149 - mse: 0.0038\n",
            "Epoch 44/50\n",
            "615/615 [==============================] - 4s 6ms/step - loss: 0.0138 - mse: 0.0035\n",
            "Epoch 45/50\n",
            "615/615 [==============================] - 4s 6ms/step - loss: 0.0134 - mse: 0.0035\n",
            "Epoch 46/50\n",
            "615/615 [==============================] - 4s 6ms/step - loss: 0.0125 - mse: 0.0031\n",
            "Epoch 47/50\n",
            "615/615 [==============================] - 4s 6ms/step - loss: 0.0132 - mse: 0.0034\n",
            "Epoch 48/50\n",
            "615/615 [==============================] - 4s 6ms/step - loss: 0.0124 - mse: 0.0032\n",
            "Epoch 49/50\n",
            "615/615 [==============================] - 4s 6ms/step - loss: 0.0130 - mse: 0.0034\n",
            "Epoch 50/50\n",
            "615/615 [==============================] - 4s 6ms/step - loss: 0.0118 - mse: 0.0030\n"
          ],
          "name": "stdout"
        },
        {
          "output_type": "execute_result",
          "data": {
            "text/plain": [
              "<tensorflow.python.keras.callbacks.History at 0x7fb0a0905090>"
            ]
          },
          "metadata": {
            "tags": []
          },
          "execution_count": 30
        }
      ]
    },
    {
      "cell_type": "code",
      "metadata": {
        "id": "BH9pkRd4kCCp",
        "colab": {
          "base_uri": "https://localhost:8080/"
        },
        "outputId": "9f3311a0-5a7d-4120-90d6-c61a24c7eb69"
      },
      "source": [
        "preds = model.predict(testX)\n",
        "\n",
        "\n",
        "# since the predictions of the model are sigmoid, we will first binarize them to 0 or 1\n",
        "pred_binarized = []\n",
        "\n",
        "for pred in preds:\n",
        "    vals = []\n",
        "    for val in pred:\n",
        "        if val > 0.5:\n",
        "            vals.append(1)\n",
        "        else:\n",
        "            vals.append(0)\n",
        "    pred_binarized.append(vals) \n",
        "\n",
        "pred_binarized = np.array(pred_binarized)   \n",
        "\n",
        "\n",
        "# we convert the output vectors to the predicted labels\n",
        "true_test_labels = mlb.inverse_transform(testY)\n",
        "pred_test_labels = mlb.inverse_transform(pred_binarized)\n",
        "\n",
        "correct = 0\n",
        "wrong = 0\n",
        "\n",
        "# Evaluating the predictions of the model\n",
        "\n",
        "for i in range(len(testY)):\n",
        "\n",
        "    true_labels = list(true_test_labels[i])\n",
        "\n",
        "    pred_labels = list(pred_test_labels[i])\n",
        "\n",
        "    label1 = true_labels[0]\n",
        "    label2 = true_labels[1]\n",
        "\n",
        "    if label1 in pred_labels:\n",
        "        correct+=1\n",
        "    else:\n",
        "        wrong+=1\n",
        "\n",
        "    if label2 in pred_labels:\n",
        "        correct+=1\n",
        "    else:\n",
        "        wrong+=1    \n",
        "\n",
        "\n",
        "\n",
        "print('correct: ', correct)\n",
        "print('missing/wrong: ', wrong)\n",
        "print('Accuracy: ',correct/(correct+wrong))"
      ],
      "execution_count": 35,
      "outputs": [
        {
          "output_type": "stream",
          "text": [
            "correct:  3669\n",
            "missing/wrong:  699\n",
            "Accuracy:  0.8399725274725275\n"
          ],
          "name": "stdout"
        }
      ]
    },
    {
      "cell_type": "markdown",
      "metadata": {
        "id": "kjZUq2Xb-qdM"
      },
      "source": [
        "We can see that this model identifies 83.99% of the labels correctly, let us see what that looks like in practice"
      ]
    },
    {
      "cell_type": "code",
      "metadata": {
        "colab": {
          "base_uri": "https://localhost:8080/"
        },
        "id": "AV539Cf9vzIs",
        "outputId": "ee47c032-fae8-4aad-af01-fefc963ed321"
      },
      "source": [
        "for i in range(20):\n",
        "    print('True labels: ',true_test_labels[i],' Predicted labels: ',pred_test_labels[i])"
      ],
      "execution_count": 38,
      "outputs": [
        {
          "output_type": "stream",
          "text": [
            "True labels:  ('Topwear', 'White')  Predicted labels:  ('Topwear', 'White')\n",
            "True labels:  ('Black', 'Shoes')  Predicted labels:  ('Black', 'Shoes')\n",
            "True labels:  ('Green', 'Topwear')  Predicted labels:  ('Green', 'Topwear')\n",
            "True labels:  ('Purple', 'Topwear')  Predicted labels:  ('Pink', 'Topwear')\n",
            "True labels:  ('Green', 'Topwear')  Predicted labels:  ('Green', 'Topwear')\n",
            "True labels:  ('Shoes', 'White')  Predicted labels:  ('Shoes', 'White')\n",
            "True labels:  ('Brown', 'Shoes')  Predicted labels:  ('Brown', 'Shoes')\n",
            "True labels:  ('Black', 'Watches')  Predicted labels:  ('Black', 'Watches')\n",
            "True labels:  ('Black', 'Watches')  Predicted labels:  ('Black', 'Watches')\n",
            "True labels:  ('Red', 'Topwear')  Predicted labels:  ('Red', 'Topwear')\n",
            "True labels:  ('Brown', 'Shoes')  Predicted labels:  ('Brown', 'Shoes')\n",
            "True labels:  ('Black', 'Shoes')  Predicted labels:  ('Black', 'Shoes')\n",
            "True labels:  ('Bags', 'Brown')  Predicted labels:  ('Bags', 'Brown')\n",
            "True labels:  ('Shoes', 'White')  Predicted labels:  ('Shoes', 'White')\n",
            "True labels:  ('Black', 'Topwear')  Predicted labels:  ('Black', 'Topwear')\n",
            "True labels:  ('Black', 'Shoes')  Predicted labels:  ('Black', 'Shoes')\n",
            "True labels:  ('Red', 'Topwear')  Predicted labels:  ('Red', 'Topwear')\n",
            "True labels:  ('Shoes', 'White')  Predicted labels:  ('Shoes',)\n",
            "True labels:  ('Blue', 'Topwear')  Predicted labels:  ('Blue', 'Topwear')\n",
            "True labels:  ('Bags', 'Black')  Predicted labels:  ('Bags', 'Black')\n"
          ],
          "name": "stdout"
        }
      ]
    },
    {
      "cell_type": "markdown",
      "metadata": {
        "id": "49ZPuPvL_ct3"
      },
      "source": [
        "We can see that this model performs very well in identifying both articleType and baseColour based on the images"
      ]
    }
  ]
}
