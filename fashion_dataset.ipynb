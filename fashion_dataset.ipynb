{
  "nbformat": 4,
  "nbformat_minor": 0,
  "metadata": {
    "colab": {
      "name": "Untitled0.ipynb",
      "provenance": []
    },
    "kernelspec": {
      "name": "python3",
      "display_name": "Python 3"
    },
    "accelerator": "GPU"
  },
  "cells": [
    {
      "cell_type": "code",
      "metadata": {
        "id": "Lij6ItfCoTg2",
        "colab": {
          "base_uri": "https://localhost:8080/"
        },
        "outputId": "cc783d93-0f8e-4799-a6f7-53c49625ab9f"
      },
      "source": [
        "!pip install kaggle\n",
        "!mkdir .kaggle\n",
        "!mkdir ~/.kaggle\n",
        "\n",
        "import json\n",
        "token = {\"username\":\"tanmayakrsahni\",\"key\":\"33888ab7e78c0b759c8d076db7cd57d6\"}\n",
        "\n",
        "with open('/content/.kaggle/kaggle.json', 'w') as file:\n",
        "    json.dump(token, file)\n",
        "\n",
        "!cp /content/.kaggle/kaggle.json ~/.kaggle/kaggle.json\n",
        "!chmod 600 /root/.kaggle/kaggle.json\n",
        "\n",
        "!kaggle datasets download -d paramaggarwal/fashion-product-images-small\n",
        "\n",
        "!ls"
      ],
      "execution_count": 1,
      "outputs": [
        {
          "output_type": "stream",
          "text": [
            "Requirement already satisfied: kaggle in /usr/local/lib/python3.7/dist-packages (1.5.10)\n",
            "Requirement already satisfied: requests in /usr/local/lib/python3.7/dist-packages (from kaggle) (2.23.0)\n",
            "Requirement already satisfied: python-slugify in /usr/local/lib/python3.7/dist-packages (from kaggle) (4.0.1)\n",
            "Requirement already satisfied: certifi in /usr/local/lib/python3.7/dist-packages (from kaggle) (2020.12.5)\n",
            "Requirement already satisfied: six>=1.10 in /usr/local/lib/python3.7/dist-packages (from kaggle) (1.15.0)\n",
            "Requirement already satisfied: urllib3 in /usr/local/lib/python3.7/dist-packages (from kaggle) (1.24.3)\n",
            "Requirement already satisfied: tqdm in /usr/local/lib/python3.7/dist-packages (from kaggle) (4.41.1)\n",
            "Requirement already satisfied: python-dateutil in /usr/local/lib/python3.7/dist-packages (from kaggle) (2.8.1)\n",
            "Requirement already satisfied: idna<3,>=2.5 in /usr/local/lib/python3.7/dist-packages (from requests->kaggle) (2.10)\n",
            "Requirement already satisfied: chardet<4,>=3.0.2 in /usr/local/lib/python3.7/dist-packages (from requests->kaggle) (3.0.4)\n",
            "Requirement already satisfied: text-unidecode>=1.3 in /usr/local/lib/python3.7/dist-packages (from python-slugify->kaggle) (1.3)\n",
            "mkdir: cannot create directory ‘.kaggle’: File exists\n",
            "mkdir: cannot create directory ‘/root/.kaggle’: File exists\n",
            "fashion-product-images-small.zip: Skipping, found more recently modified local copy (use --force to force download)\n",
            "fashion-product-images-small.zip  myntradataset  styles.csv\n",
            "images\t\t\t\t  sample_data\n"
          ],
          "name": "stdout"
        }
      ]
    },
    {
      "cell_type": "code",
      "metadata": {
        "id": "otxNfi5tJ9zf",
        "colab": {
          "base_uri": "https://localhost:8080/"
        },
        "outputId": "abc196b8-41b8-4e3f-afe4-b8ca4e1afaed"
      },
      "source": [
        "# importing required modules \n",
        "from zipfile import ZipFile \n",
        "  \n",
        "# specifying the zip file name \n",
        "file_name = \"fashion-product-images-small.zip\"\n",
        "  \n",
        "# opening the zip file in READ mode \n",
        "with ZipFile(file_name, 'r') as zip: \n",
        "    # extracting all the files \n",
        "    print('Extracting all the files now...') \n",
        "    zip.extractall() \n",
        "    print('Done!')"
      ],
      "execution_count": 2,
      "outputs": [
        {
          "output_type": "stream",
          "text": [
            "Extracting all the files now...\n",
            "Done!\n"
          ],
          "name": "stdout"
        }
      ]
    },
    {
      "cell_type": "code",
      "metadata": {
        "colab": {
          "base_uri": "https://localhost:8080/"
        },
        "id": "8nAYRtrm_T3J",
        "outputId": "9bd36e5b-e9bb-4daf-b579-3abc6a382e0f"
      },
      "source": [
        "!ls"
      ],
      "execution_count": 3,
      "outputs": [
        {
          "output_type": "stream",
          "text": [
            "fashion-product-images-small.zip  myntradataset  styles.csv\n",
            "images\t\t\t\t  sample_data\n"
          ],
          "name": "stdout"
        }
      ]
    },
    {
      "cell_type": "code",
      "metadata": {
        "colab": {
          "base_uri": "https://localhost:8080/",
          "height": 241
        },
        "id": "8UpdrVR3NrKr",
        "outputId": "ad9b2bcd-398f-424d-e004-715f6bd68528"
      },
      "source": [
        "import pandas as pd\n",
        "\n",
        "df = pd.read_csv('styles.csv',error_bad_lines=False)\n",
        "\n",
        "df.head()"
      ],
      "execution_count": 4,
      "outputs": [
        {
          "output_type": "stream",
          "text": [
            "b'Skipping line 6044: expected 10 fields, saw 11\\nSkipping line 6569: expected 10 fields, saw 11\\nSkipping line 7399: expected 10 fields, saw 11\\nSkipping line 7939: expected 10 fields, saw 11\\nSkipping line 9026: expected 10 fields, saw 11\\nSkipping line 10264: expected 10 fields, saw 11\\nSkipping line 10427: expected 10 fields, saw 11\\nSkipping line 10905: expected 10 fields, saw 11\\nSkipping line 11373: expected 10 fields, saw 11\\nSkipping line 11945: expected 10 fields, saw 11\\nSkipping line 14112: expected 10 fields, saw 11\\nSkipping line 14532: expected 10 fields, saw 11\\nSkipping line 15076: expected 10 fields, saw 12\\nSkipping line 29906: expected 10 fields, saw 11\\nSkipping line 31625: expected 10 fields, saw 11\\nSkipping line 33020: expected 10 fields, saw 11\\nSkipping line 35748: expected 10 fields, saw 11\\nSkipping line 35962: expected 10 fields, saw 11\\nSkipping line 37770: expected 10 fields, saw 11\\nSkipping line 38105: expected 10 fields, saw 11\\nSkipping line 38275: expected 10 fields, saw 11\\nSkipping line 38404: expected 10 fields, saw 12\\n'\n"
          ],
          "name": "stderr"
        },
        {
          "output_type": "execute_result",
          "data": {
            "text/html": [
              "<div>\n",
              "<style scoped>\n",
              "    .dataframe tbody tr th:only-of-type {\n",
              "        vertical-align: middle;\n",
              "    }\n",
              "\n",
              "    .dataframe tbody tr th {\n",
              "        vertical-align: top;\n",
              "    }\n",
              "\n",
              "    .dataframe thead th {\n",
              "        text-align: right;\n",
              "    }\n",
              "</style>\n",
              "<table border=\"1\" class=\"dataframe\">\n",
              "  <thead>\n",
              "    <tr style=\"text-align: right;\">\n",
              "      <th></th>\n",
              "      <th>id</th>\n",
              "      <th>gender</th>\n",
              "      <th>masterCategory</th>\n",
              "      <th>subCategory</th>\n",
              "      <th>articleType</th>\n",
              "      <th>baseColour</th>\n",
              "      <th>season</th>\n",
              "      <th>year</th>\n",
              "      <th>usage</th>\n",
              "      <th>productDisplayName</th>\n",
              "    </tr>\n",
              "  </thead>\n",
              "  <tbody>\n",
              "    <tr>\n",
              "      <th>0</th>\n",
              "      <td>15970</td>\n",
              "      <td>Men</td>\n",
              "      <td>Apparel</td>\n",
              "      <td>Topwear</td>\n",
              "      <td>Shirts</td>\n",
              "      <td>Navy Blue</td>\n",
              "      <td>Fall</td>\n",
              "      <td>2011.0</td>\n",
              "      <td>Casual</td>\n",
              "      <td>Turtle Check Men Navy Blue Shirt</td>\n",
              "    </tr>\n",
              "    <tr>\n",
              "      <th>1</th>\n",
              "      <td>39386</td>\n",
              "      <td>Men</td>\n",
              "      <td>Apparel</td>\n",
              "      <td>Bottomwear</td>\n",
              "      <td>Jeans</td>\n",
              "      <td>Blue</td>\n",
              "      <td>Summer</td>\n",
              "      <td>2012.0</td>\n",
              "      <td>Casual</td>\n",
              "      <td>Peter England Men Party Blue Jeans</td>\n",
              "    </tr>\n",
              "    <tr>\n",
              "      <th>2</th>\n",
              "      <td>59263</td>\n",
              "      <td>Women</td>\n",
              "      <td>Accessories</td>\n",
              "      <td>Watches</td>\n",
              "      <td>Watches</td>\n",
              "      <td>Silver</td>\n",
              "      <td>Winter</td>\n",
              "      <td>2016.0</td>\n",
              "      <td>Casual</td>\n",
              "      <td>Titan Women Silver Watch</td>\n",
              "    </tr>\n",
              "    <tr>\n",
              "      <th>3</th>\n",
              "      <td>21379</td>\n",
              "      <td>Men</td>\n",
              "      <td>Apparel</td>\n",
              "      <td>Bottomwear</td>\n",
              "      <td>Track Pants</td>\n",
              "      <td>Black</td>\n",
              "      <td>Fall</td>\n",
              "      <td>2011.0</td>\n",
              "      <td>Casual</td>\n",
              "      <td>Manchester United Men Solid Black Track Pants</td>\n",
              "    </tr>\n",
              "    <tr>\n",
              "      <th>4</th>\n",
              "      <td>53759</td>\n",
              "      <td>Men</td>\n",
              "      <td>Apparel</td>\n",
              "      <td>Topwear</td>\n",
              "      <td>Tshirts</td>\n",
              "      <td>Grey</td>\n",
              "      <td>Summer</td>\n",
              "      <td>2012.0</td>\n",
              "      <td>Casual</td>\n",
              "      <td>Puma Men Grey T-shirt</td>\n",
              "    </tr>\n",
              "  </tbody>\n",
              "</table>\n",
              "</div>"
            ],
            "text/plain": [
              "      id gender  ...   usage                             productDisplayName\n",
              "0  15970    Men  ...  Casual               Turtle Check Men Navy Blue Shirt\n",
              "1  39386    Men  ...  Casual             Peter England Men Party Blue Jeans\n",
              "2  59263  Women  ...  Casual                       Titan Women Silver Watch\n",
              "3  21379    Men  ...  Casual  Manchester United Men Solid Black Track Pants\n",
              "4  53759    Men  ...  Casual                          Puma Men Grey T-shirt\n",
              "\n",
              "[5 rows x 10 columns]"
            ]
          },
          "metadata": {
            "tags": []
          },
          "execution_count": 4
        }
      ]
    },
    {
      "cell_type": "code",
      "metadata": {
        "colab": {
          "base_uri": "https://localhost:8080/"
        },
        "id": "ichW5ZJ8NrjZ",
        "outputId": "fa27fe1b-d131-4cf2-b51d-b11b7ac34f01"
      },
      "source": [
        "df.columns"
      ],
      "execution_count": 5,
      "outputs": [
        {
          "output_type": "execute_result",
          "data": {
            "text/plain": [
              "Index(['id', 'gender', 'masterCategory', 'subCategory', 'articleType',\n",
              "       'baseColour', 'season', 'year', 'usage', 'productDisplayName'],\n",
              "      dtype='object')"
            ]
          },
          "metadata": {
            "tags": []
          },
          "execution_count": 5
        }
      ]
    },
    {
      "cell_type": "code",
      "metadata": {
        "id": "CV6lYvYLPsVs"
      },
      "source": [
        "df = df.dropna()"
      ],
      "execution_count": 6,
      "outputs": []
    },
    {
      "cell_type": "code",
      "metadata": {
        "colab": {
          "base_uri": "https://localhost:8080/"
        },
        "id": "QUeIftiY_ivZ",
        "outputId": "04b4fcf4-2637-4969-cc7b-102d63db31d9"
      },
      "source": [
        "df.nunique()"
      ],
      "execution_count": 7,
      "outputs": [
        {
          "output_type": "execute_result",
          "data": {
            "text/plain": [
              "id                    44077\n",
              "gender                    5\n",
              "masterCategory            7\n",
              "subCategory              45\n",
              "articleType             142\n",
              "baseColour               46\n",
              "season                    4\n",
              "year                     13\n",
              "usage                     8\n",
              "productDisplayName    30806\n",
              "dtype: int64"
            ]
          },
          "metadata": {
            "tags": []
          },
          "execution_count": 7
        }
      ]
    },
    {
      "cell_type": "code",
      "metadata": {
        "colab": {
          "base_uri": "https://localhost:8080/"
        },
        "id": "SDerF7kBr6KC",
        "outputId": "94432edb-20b1-4021-c931-afc3236c46c1"
      },
      "source": [
        "value_counts = df['articleType'].value_counts()\n",
        "\n",
        "indexes = value_counts.index\n",
        "\n",
        "values = value_counts.values\n",
        "\n",
        "for i in range(len(value_counts)):\n",
        "\n",
        "    if values[i] <1000:\n",
        "        break\n",
        "\n",
        "types_used = indexes[:i]\n",
        "print(types_used)"
      ],
      "execution_count": 8,
      "outputs": [
        {
          "output_type": "stream",
          "text": [
            "Index(['Tshirts', 'Shirts', 'Casual Shoes', 'Watches', 'Sports Shoes',\n",
            "       'Kurtas', 'Tops', 'Handbags', 'Heels', 'Sunglasses'],\n",
            "      dtype='object')\n"
          ],
          "name": "stdout"
        }
      ]
    },
    {
      "cell_type": "code",
      "metadata": {
        "colab": {
          "base_uri": "https://localhost:8080/"
        },
        "id": "xdnta0-iBTm6",
        "outputId": "ebe1c53b-21b4-453b-9569-78af56a5574e"
      },
      "source": [
        "df['gender'].value_counts()"
      ],
      "execution_count": 9,
      "outputs": [
        {
          "output_type": "execute_result",
          "data": {
            "text/plain": [
              "Men       22109\n",
              "Women     18357\n",
              "Unisex     2126\n",
              "Boys        830\n",
              "Girls       655\n",
              "Name: gender, dtype: int64"
            ]
          },
          "metadata": {
            "tags": []
          },
          "execution_count": 9
        }
      ]
    },
    {
      "cell_type": "code",
      "metadata": {
        "id": "rtH8waWgr6N9"
      },
      "source": [
        "df = df[df['gender'] != 'Boys']\n",
        "df = df[df['gender'] != 'Girls']"
      ],
      "execution_count": 10,
      "outputs": []
    },
    {
      "cell_type": "code",
      "metadata": {
        "colab": {
          "base_uri": "https://localhost:8080/"
        },
        "id": "e1voV18KqCbM",
        "outputId": "37cb0d6a-c79d-44b3-aae1-f540dc493fd7"
      },
      "source": [
        "value_counts = df['baseColour'].value_counts()\n",
        "\n",
        "indexes = value_counts.index\n",
        "\n",
        "values = value_counts.values\n",
        "\n",
        "for i in range(len(value_counts)):\n",
        "\n",
        "    if values[i] <1000:\n",
        "        break\n",
        "\n",
        "colours_used = indexes[:i]\n",
        "print(colours_used)"
      ],
      "execution_count": 11,
      "outputs": [
        {
          "output_type": "stream",
          "text": [
            "Index(['Black', 'White', 'Blue', 'Brown', 'Grey', 'Red', 'Green', 'Navy Blue',\n",
            "       'Pink', 'Purple', 'Silver'],\n",
            "      dtype='object')\n"
          ],
          "name": "stdout"
        }
      ]
    },
    {
      "cell_type": "code",
      "metadata": {
        "id": "xAwPPQozqClF"
      },
      "source": [
        "df = df[df['articleType'].isin(types_used)]\n",
        "df = df[df['baseColour'].isin(colours_used)]"
      ],
      "execution_count": 12,
      "outputs": []
    },
    {
      "cell_type": "code",
      "metadata": {
        "colab": {
          "base_uri": "https://localhost:8080/"
        },
        "id": "kst-n7WeqdRW",
        "outputId": "fb4bae8b-7f30-4c42-8735-3a88d89f30b5"
      },
      "source": [
        "cat_columns = ['gender', 'masterCategory', 'subCategory', 'articleType','baseColour', 'season', 'year', 'usage']\n",
        "\n",
        "for col in cat_columns:\n",
        "    print(col)\n",
        "    print(df[col].unique())\n",
        "    print('-------------------------')"
      ],
      "execution_count": 13,
      "outputs": [
        {
          "output_type": "stream",
          "text": [
            "gender\n",
            "['Men' 'Women' 'Unisex']\n",
            "-------------------------\n",
            "masterCategory\n",
            "['Apparel' 'Accessories' 'Footwear' 'Free Items']\n",
            "-------------------------\n",
            "subCategory\n",
            "['Topwear' 'Watches' 'Shoes' 'Bags' 'Eyewear' 'Free Gifts' 'Belts']\n",
            "-------------------------\n",
            "articleType\n",
            "['Shirts' 'Watches' 'Tshirts' 'Casual Shoes' 'Handbags' 'Kurtas'\n",
            " 'Sports Shoes' 'Heels' 'Tops' 'Sunglasses']\n",
            "-------------------------\n",
            "baseColour\n",
            "['Navy Blue' 'Silver' 'Grey' 'Green' 'Purple' 'Black' 'Blue' 'Brown'\n",
            " 'White' 'Pink' 'Red']\n",
            "-------------------------\n",
            "season\n",
            "['Fall' 'Winter' 'Summer' 'Spring']\n",
            "-------------------------\n",
            "year\n",
            "[2011. 2016. 2012. 2015. 2014. 2010. 2013. 2018. 2017. 2007. 2009. 2008.]\n",
            "-------------------------\n",
            "usage\n",
            "['Casual' 'Ethnic' 'Formal' 'Sports' 'Smart Casual' 'Party' 'Travel']\n",
            "-------------------------\n"
          ],
          "name": "stdout"
        }
      ]
    },
    {
      "cell_type": "code",
      "metadata": {
        "id": "7swP9ZFNqdUk",
        "colab": {
          "base_uri": "https://localhost:8080/"
        },
        "outputId": "48a5f99e-d998-434d-b304-9e7ba0778592"
      },
      "source": [
        "df['usage'].value_counts()"
      ],
      "execution_count": 14,
      "outputs": [
        {
          "output_type": "execute_result",
          "data": {
            "text/plain": [
              "Casual          15804\n",
              "Sports           2887\n",
              "Ethnic           1407\n",
              "Formal            839\n",
              "Smart Casual       41\n",
              "Travel              5\n",
              "Party               4\n",
              "Name: usage, dtype: int64"
            ]
          },
          "metadata": {
            "tags": []
          },
          "execution_count": 14
        }
      ]
    },
    {
      "cell_type": "code",
      "metadata": {
        "id": "JGYc8-C1qdXv"
      },
      "source": [
        "df = df[df['usage'] != 'Smart Casual']\n",
        "df = df[df['usage'] != 'Travel']\n",
        "df = df[df['usage'] != 'Party']"
      ],
      "execution_count": 15,
      "outputs": []
    },
    {
      "cell_type": "code",
      "metadata": {
        "colab": {
          "base_uri": "https://localhost:8080/"
        },
        "id": "RU94vvpeqdaj",
        "outputId": "8b8a5cfe-b0c7-4258-cf97-aceb40c21902"
      },
      "source": [
        "cat_columns = ['gender', 'masterCategory', 'subCategory', 'articleType','baseColour', 'season', 'year', 'usage']\n",
        "\n",
        "for col in cat_columns:\n",
        "    print(col)\n",
        "    print(df[col].unique())\n",
        "    print('-------------------------')"
      ],
      "execution_count": 16,
      "outputs": [
        {
          "output_type": "stream",
          "text": [
            "gender\n",
            "['Men' 'Women' 'Unisex']\n",
            "-------------------------\n",
            "masterCategory\n",
            "['Apparel' 'Accessories' 'Footwear' 'Free Items']\n",
            "-------------------------\n",
            "subCategory\n",
            "['Topwear' 'Watches' 'Shoes' 'Bags' 'Eyewear' 'Free Gifts' 'Belts']\n",
            "-------------------------\n",
            "articleType\n",
            "['Shirts' 'Watches' 'Tshirts' 'Casual Shoes' 'Handbags' 'Kurtas'\n",
            " 'Sports Shoes' 'Heels' 'Tops' 'Sunglasses']\n",
            "-------------------------\n",
            "baseColour\n",
            "['Navy Blue' 'Silver' 'Grey' 'Green' 'Purple' 'Black' 'Blue' 'Brown'\n",
            " 'White' 'Pink' 'Red']\n",
            "-------------------------\n",
            "season\n",
            "['Fall' 'Winter' 'Summer' 'Spring']\n",
            "-------------------------\n",
            "year\n",
            "[2011. 2016. 2012. 2015. 2014. 2010. 2013. 2018. 2017. 2007. 2009. 2008.]\n",
            "-------------------------\n",
            "usage\n",
            "['Casual' 'Ethnic' 'Formal' 'Sports']\n",
            "-------------------------\n"
          ],
          "name": "stdout"
        }
      ]
    },
    {
      "cell_type": "code",
      "metadata": {
        "id": "XVGbafLh5hj7"
      },
      "source": [
        "df = df[df['subCategory'] != 'Free Gifts']"
      ],
      "execution_count": 17,
      "outputs": []
    },
    {
      "cell_type": "code",
      "metadata": {
        "colab": {
          "base_uri": "https://localhost:8080/"
        },
        "id": "2PaVOyFzqdd0",
        "outputId": "d18202e3-85d5-4421-e19d-41f74cbbba1f"
      },
      "source": [
        "len(df)"
      ],
      "execution_count": 18,
      "outputs": [
        {
          "output_type": "execute_result",
          "data": {
            "text/plain": [
              "20935"
            ]
          },
          "metadata": {
            "tags": []
          },
          "execution_count": 18
        }
      ]
    },
    {
      "cell_type": "code",
      "metadata": {
        "id": "fCNjGsefNrq-"
      },
      "source": [
        "data = []\n",
        "\n",
        "from tensorflow.keras.preprocessing.image import img_to_array\n",
        "import cv2\n",
        "\n",
        "IX = 80\n",
        "IY = 60\n",
        "\n",
        "invalid_ids = []\n",
        "\n",
        "for name in df.id:\n",
        "\n",
        "    try:\n",
        "        image = cv2.imread('images/'+str(name)+'.jpg')\n",
        "        image = cv2.resize(image, (IX,IY) )\n",
        "        image = img_to_array(image)\n",
        "        data.append(image)        \n",
        "    except:   \n",
        "        invalid_ids.append(name)\n",
        "    \n",
        "    \n"
      ],
      "execution_count": 37,
      "outputs": []
    },
    {
      "cell_type": "code",
      "metadata": {
        "colab": {
          "base_uri": "https://localhost:8080/"
        },
        "id": "QUp4-msvfjnt",
        "outputId": "b3484f83-9316-4a9a-c1b2-273556a7df62"
      },
      "source": [
        "print('invalid ids:')\n",
        "print(invalid_ids)"
      ],
      "execution_count": 38,
      "outputs": [
        {
          "output_type": "stream",
          "text": [
            "invalid ids:\n",
            "[39403, 39425]\n"
          ],
          "name": "stdout"
        }
      ]
    },
    {
      "cell_type": "code",
      "metadata": {
        "id": "FetSFwStfvJm"
      },
      "source": [
        "labels = []\n",
        "\n",
        "used_columns = ['subCategory','baseColour']\n",
        "\n",
        "for index, row in df.iterrows():\n",
        "\n",
        "    if row['id'] in invalid_ids:\n",
        "        continue\n",
        "\n",
        "    tags = []\n",
        "\n",
        "    for col in used_columns:\n",
        "        tags.append(row[col])\n",
        "\n",
        "    labels.append(tags)"
      ],
      "execution_count": 39,
      "outputs": []
    },
    {
      "cell_type": "code",
      "metadata": {
        "colab": {
          "base_uri": "https://localhost:8080/"
        },
        "id": "AtuGzzUpNr39",
        "outputId": "da693f86-5945-4e1c-b1eb-57285f6794b4"
      },
      "source": [
        "import numpy as np\n",
        "\n",
        "data = np.array(data, dtype=\"float\") / 255.0\n",
        "labels = np.array(labels)\n",
        "\n",
        "print(labels)"
      ],
      "execution_count": 40,
      "outputs": [
        {
          "output_type": "stream",
          "text": [
            "[['Topwear' 'Navy Blue']\n",
            " ['Watches' 'Silver']\n",
            " ['Topwear' 'Grey']\n",
            " ...\n",
            " ['Shoes' 'White']\n",
            " ['Topwear' 'Blue']\n",
            " ['Watches' 'Pink']]\n"
          ],
          "name": "stdout"
        }
      ]
    },
    {
      "cell_type": "code",
      "metadata": {
        "colab": {
          "base_uri": "https://localhost:8080/"
        },
        "id": "i3vvj16Mizwe",
        "outputId": "9b24189c-1e51-4d50-af96-b71f434d5470"
      },
      "source": [
        "from sklearn.preprocessing import MultiLabelBinarizer\n",
        "\n",
        "mlb = MultiLabelBinarizer()\n",
        "labels = mlb.fit_transform(labels)\n",
        "\n",
        "print(mlb.classes_)\n",
        "print(labels[0])"
      ],
      "execution_count": 41,
      "outputs": [
        {
          "output_type": "stream",
          "text": [
            "['Bags' 'Belts' 'Black' 'Blue' 'Brown' 'Eyewear' 'Green' 'Grey'\n",
            " 'Navy Blue' 'Pink' 'Purple' 'Red' 'Shoes' 'Silver' 'Topwear' 'Watches'\n",
            " 'White']\n",
            "[0 0 0 0 0 0 0 0 1 0 0 0 0 0 1 0 0]\n"
          ],
          "name": "stdout"
        }
      ]
    },
    {
      "cell_type": "code",
      "metadata": {
        "id": "QI340JWoiz2p"
      },
      "source": [
        "from tensorflow.keras.layers import Flatten\n",
        "from tensorflow.keras.layers import Dropout\n",
        "from tensorflow.keras.layers import Dense\n",
        "from tensorflow.keras.models import Sequential\n",
        "from tensorflow.keras.layers import Dense, Dropout, Activation, Flatten, Conv2D, MaxPooling2D\n",
        "\n",
        "inputShape = (IY, IX, 3)\n",
        "\n",
        "\n",
        "model = Sequential()\n",
        "\n",
        "model.add(Conv2D(64, (3, 3), padding=\"same\",input_shape=inputShape))\n",
        "model.add(Activation(\"relu\"))\n",
        "model.add(MaxPooling2D(pool_size=(2, 2)))\n",
        "model.add(Dropout(0.2))\n",
        "\n",
        "model.add(Conv2D(64, (3, 3)))\n",
        "model.add(Activation('relu'))\n",
        "model.add(MaxPooling2D(pool_size=(2, 2)))\n",
        "model.add(Dropout(0.2))\n",
        "\n",
        "model.add(Flatten()) \n",
        "\n",
        "model.add(Dense(128))\n",
        "model.add(Activation('sigmoid'))\n",
        "\n",
        "\n",
        "out = len(mlb.classes_)\n",
        "\n",
        "model.add(Dense(out))\n",
        "model.add(Activation('sigmoid'))\n",
        "                    \n",
        "model.compile(loss='binary_crossentropy',\n",
        "              optimizer='adam',\n",
        "              metrics=['mse'])"
      ],
      "execution_count": 42,
      "outputs": []
    },
    {
      "cell_type": "code",
      "metadata": {
        "id": "6lOTLHJbiz7K"
      },
      "source": [
        "\n",
        "from sklearn.model_selection import train_test_split\n",
        "\n",
        "\n",
        "(trainX, testX, trainY, testY) = train_test_split(data,labels, test_size=0.1, random_state=42)"
      ],
      "execution_count": 43,
      "outputs": []
    },
    {
      "cell_type": "code",
      "metadata": {
        "id": "vWlLBjs2kB_r",
        "colab": {
          "base_uri": "https://localhost:8080/"
        },
        "outputId": "20b2701c-b9ee-4e43-ea8e-89a08b46bd33"
      },
      "source": [
        "batch = 32\n",
        "E = 50\n",
        "\n",
        "\n",
        "model.fit(x=trainX,y=trainY,\n",
        "          epochs=E ,verbose=1)"
      ],
      "execution_count": 44,
      "outputs": [
        {
          "output_type": "stream",
          "text": [
            "Epoch 1/50\n",
            "589/589 [==============================] - 5s 8ms/step - loss: 0.2918 - accuracy: 0.1257\n",
            "Epoch 2/50\n",
            "589/589 [==============================] - 5s 8ms/step - loss: 0.1247 - accuracy: 0.2617\n",
            "Epoch 3/50\n",
            "589/589 [==============================] - 5s 8ms/step - loss: 0.1014 - accuracy: 0.2630\n",
            "Epoch 4/50\n",
            "589/589 [==============================] - 5s 8ms/step - loss: 0.0903 - accuracy: 0.2634\n",
            "Epoch 5/50\n",
            "589/589 [==============================] - 5s 8ms/step - loss: 0.0829 - accuracy: 0.2632\n",
            "Epoch 6/50\n",
            "589/589 [==============================] - 5s 8ms/step - loss: 0.0791 - accuracy: 0.2669\n",
            "Epoch 7/50\n",
            "589/589 [==============================] - 5s 8ms/step - loss: 0.0740 - accuracy: 0.2726\n",
            "Epoch 8/50\n",
            "589/589 [==============================] - 5s 8ms/step - loss: 0.0729 - accuracy: 0.2673\n",
            "Epoch 9/50\n",
            "589/589 [==============================] - 5s 8ms/step - loss: 0.0668 - accuracy: 0.2702\n",
            "Epoch 10/50\n",
            "589/589 [==============================] - 5s 8ms/step - loss: 0.0663 - accuracy: 0.2674\n",
            "Epoch 11/50\n",
            "589/589 [==============================] - 5s 8ms/step - loss: 0.0618 - accuracy: 0.2603\n",
            "Epoch 12/50\n",
            "589/589 [==============================] - 5s 8ms/step - loss: 0.0589 - accuracy: 0.2661\n",
            "Epoch 13/50\n",
            "589/589 [==============================] - 5s 8ms/step - loss: 0.0583 - accuracy: 0.2696\n",
            "Epoch 14/50\n",
            "589/589 [==============================] - 5s 8ms/step - loss: 0.0552 - accuracy: 0.2737\n",
            "Epoch 15/50\n",
            "589/589 [==============================] - 5s 8ms/step - loss: 0.0520 - accuracy: 0.2673\n",
            "Epoch 16/50\n",
            "589/589 [==============================] - 5s 8ms/step - loss: 0.0510 - accuracy: 0.2719\n",
            "Epoch 17/50\n",
            "589/589 [==============================] - 5s 8ms/step - loss: 0.0478 - accuracy: 0.2747\n",
            "Epoch 18/50\n",
            "589/589 [==============================] - 5s 8ms/step - loss: 0.0457 - accuracy: 0.2692\n",
            "Epoch 19/50\n",
            "589/589 [==============================] - 5s 8ms/step - loss: 0.0428 - accuracy: 0.2727\n",
            "Epoch 20/50\n",
            "589/589 [==============================] - 5s 8ms/step - loss: 0.0430 - accuracy: 0.2658\n",
            "Epoch 21/50\n",
            "589/589 [==============================] - 5s 8ms/step - loss: 0.0399 - accuracy: 0.2654\n",
            "Epoch 22/50\n",
            "589/589 [==============================] - 5s 8ms/step - loss: 0.0382 - accuracy: 0.2709\n",
            "Epoch 23/50\n",
            "589/589 [==============================] - 5s 8ms/step - loss: 0.0360 - accuracy: 0.2714\n",
            "Epoch 24/50\n",
            "589/589 [==============================] - 5s 8ms/step - loss: 0.0357 - accuracy: 0.2678\n",
            "Epoch 25/50\n",
            "589/589 [==============================] - 5s 8ms/step - loss: 0.0337 - accuracy: 0.2743\n",
            "Epoch 26/50\n",
            "589/589 [==============================] - 5s 8ms/step - loss: 0.0329 - accuracy: 0.2737\n",
            "Epoch 27/50\n",
            "589/589 [==============================] - 5s 8ms/step - loss: 0.0319 - accuracy: 0.2781\n",
            "Epoch 28/50\n",
            "589/589 [==============================] - 5s 8ms/step - loss: 0.0308 - accuracy: 0.2725\n",
            "Epoch 29/50\n",
            "589/589 [==============================] - 5s 8ms/step - loss: 0.0297 - accuracy: 0.2748\n",
            "Epoch 30/50\n",
            "589/589 [==============================] - 5s 8ms/step - loss: 0.0276 - accuracy: 0.2707\n",
            "Epoch 31/50\n",
            "589/589 [==============================] - 5s 8ms/step - loss: 0.0269 - accuracy: 0.2679\n",
            "Epoch 32/50\n",
            "589/589 [==============================] - 5s 8ms/step - loss: 0.0253 - accuracy: 0.2808\n",
            "Epoch 33/50\n",
            "589/589 [==============================] - 5s 8ms/step - loss: 0.0247 - accuracy: 0.2746\n",
            "Epoch 34/50\n",
            "589/589 [==============================] - 5s 8ms/step - loss: 0.0239 - accuracy: 0.2757\n",
            "Epoch 35/50\n",
            "589/589 [==============================] - 5s 8ms/step - loss: 0.0235 - accuracy: 0.2751\n",
            "Epoch 36/50\n",
            "589/589 [==============================] - 5s 8ms/step - loss: 0.0234 - accuracy: 0.2702\n",
            "Epoch 37/50\n",
            "589/589 [==============================] - 5s 8ms/step - loss: 0.0213 - accuracy: 0.2803\n",
            "Epoch 38/50\n",
            "589/589 [==============================] - 5s 8ms/step - loss: 0.0210 - accuracy: 0.2763\n",
            "Epoch 39/50\n",
            "589/589 [==============================] - 5s 8ms/step - loss: 0.0202 - accuracy: 0.2742\n",
            "Epoch 40/50\n",
            "589/589 [==============================] - 5s 8ms/step - loss: 0.0191 - accuracy: 0.2772\n",
            "Epoch 41/50\n",
            "589/589 [==============================] - 5s 8ms/step - loss: 0.0184 - accuracy: 0.2776\n",
            "Epoch 42/50\n",
            "589/589 [==============================] - 5s 8ms/step - loss: 0.0184 - accuracy: 0.2825\n",
            "Epoch 43/50\n",
            "589/589 [==============================] - 5s 8ms/step - loss: 0.0175 - accuracy: 0.2813\n",
            "Epoch 44/50\n",
            "589/589 [==============================] - 5s 8ms/step - loss: 0.0162 - accuracy: 0.2822\n",
            "Epoch 45/50\n",
            "589/589 [==============================] - 5s 8ms/step - loss: 0.0169 - accuracy: 0.2847\n",
            "Epoch 46/50\n",
            "589/589 [==============================] - 5s 8ms/step - loss: 0.0160 - accuracy: 0.2779\n",
            "Epoch 47/50\n",
            "589/589 [==============================] - 5s 8ms/step - loss: 0.0169 - accuracy: 0.2899\n",
            "Epoch 48/50\n",
            "589/589 [==============================] - 5s 8ms/step - loss: 0.0150 - accuracy: 0.2850\n",
            "Epoch 49/50\n",
            "589/589 [==============================] - 5s 8ms/step - loss: 0.0149 - accuracy: 0.2869\n",
            "Epoch 50/50\n",
            "589/589 [==============================] - 5s 8ms/step - loss: 0.0160 - accuracy: 0.2867\n"
          ],
          "name": "stdout"
        },
        {
          "output_type": "execute_result",
          "data": {
            "text/plain": [
              "<tensorflow.python.keras.callbacks.History at 0x7febf7ef8a50>"
            ]
          },
          "metadata": {
            "tags": []
          },
          "execution_count": 44
        }
      ]
    },
    {
      "cell_type": "code",
      "metadata": {
        "id": "BH9pkRd4kCCp"
      },
      "source": [
        "preds = model.predict(testX)\n",
        "\n",
        "pred_binarized = []\n",
        "\n",
        "for pred in preds:\n",
        "    vals = []\n",
        "    for val in pred:\n",
        "        if val > 0.5:\n",
        "            vals.append(1)\n",
        "        else:\n",
        "            vals.append(0)\n",
        "    pred_binarized.append(vals) \n",
        "\n",
        "pred_binarized = np.array(pred_binarized)     "
      ],
      "execution_count": 65,
      "outputs": []
    },
    {
      "cell_type": "code",
      "metadata": {
        "id": "Aq8avbzHkCGb",
        "colab": {
          "base_uri": "https://localhost:8080/"
        },
        "outputId": "3f01059e-7754-40c2-90c1-a42e9d9e06f3"
      },
      "source": [
        "testY"
      ],
      "execution_count": 53,
      "outputs": [
        {
          "output_type": "execute_result",
          "data": {
            "text/plain": [
              "array([[0, 0, 1, ..., 1, 0, 0],\n",
              "       [0, 0, 0, ..., 0, 0, 0],\n",
              "       [0, 0, 0, ..., 1, 0, 0],\n",
              "       ...,\n",
              "       [0, 0, 1, ..., 0, 1, 0],\n",
              "       [0, 0, 1, ..., 0, 0, 0],\n",
              "       [0, 0, 0, ..., 0, 0, 1]])"
            ]
          },
          "metadata": {
            "tags": []
          },
          "execution_count": 53
        }
      ]
    },
    {
      "cell_type": "code",
      "metadata": {
        "id": "hFnWII2mkCI5"
      },
      "source": [
        "from sklearn.metrics import mean_squared_error"
      ],
      "execution_count": 51,
      "outputs": []
    },
    {
      "cell_type": "code",
      "metadata": {
        "id": "VNKgwocykCL5"
      },
      "source": [
        "true_test_labels = mlb.inverse_transform(testY)\n",
        "pred_test_labels = mlb.inverse_transform(pred_binarized)"
      ],
      "execution_count": 66,
      "outputs": []
    },
    {
      "cell_type": "code",
      "metadata": {
        "id": "iygEh5nskCO-",
        "colab": {
          "base_uri": "https://localhost:8080/"
        },
        "outputId": "2339776b-8a81-44cd-fc75-302d0ecaaad3"
      },
      "source": [
        "for i in range(30):\n",
        "\n",
        "    true_label = true_test_labels[i]\n",
        "\n",
        "    pred_label = pred_test_labels[i]\n",
        "\n",
        "    print(true_label,pred_label)"
      ],
      "execution_count": 76,
      "outputs": [
        {
          "output_type": "stream",
          "text": [
            "('Black', 'Topwear') ('Black', 'Topwear')\n",
            "('Red', 'Shoes') ('Red', 'Shoes')\n",
            "('Green', 'Topwear') ('Green', 'Topwear')\n",
            "('Grey', 'Shoes') ('Grey', 'Shoes')\n",
            "('Navy Blue', 'Shoes') ('Navy Blue', 'Shoes')\n",
            "('Black', 'Topwear') ('Black', 'Topwear')\n",
            "('Blue', 'Topwear') ('Blue', 'Topwear')\n",
            "('Brown', 'Shoes') ('Shoes',)\n",
            "('Grey', 'Shoes') ('Grey', 'Shoes')\n",
            "('Topwear', 'White') ('Topwear',)\n",
            "('Blue', 'Topwear') ('Blue', 'Topwear')\n",
            "('Blue', 'Topwear') ('Blue', 'Topwear')\n",
            "('Topwear', 'White') ('Topwear', 'White')\n",
            "('Topwear', 'White') ('Topwear', 'White')\n",
            "('Green', 'Topwear') ('Green', 'Topwear')\n",
            "('Topwear', 'White') ('Topwear', 'White')\n",
            "('Blue', 'Topwear') ('Topwear',)\n",
            "('Green', 'Topwear') ('Green', 'Topwear')\n",
            "('Black', 'Shoes') ('Black', 'Shoes')\n",
            "('Black', 'Shoes') ('Black', 'Shoes')\n",
            "('Silver', 'Watches') ('Blue', 'Watches')\n",
            "('Red', 'Shoes') ('Red', 'Shoes')\n",
            "('Shoes', 'Silver') ('Shoes',)\n",
            "('Brown', 'Shoes') ('Brown', 'Shoes')\n",
            "('Navy Blue', 'Topwear') ('Topwear',)\n",
            "('Topwear', 'White') ('Topwear',)\n",
            "('Topwear', 'White') ('Topwear', 'White')\n",
            "('Blue', 'Topwear') ('Blue', 'Topwear')\n",
            "('Black', 'Eyewear') ('Black', 'Eyewear')\n",
            "('Black', 'Shoes') ('Black', 'Shoes')\n"
          ],
          "name": "stdout"
        }
      ]
    }
  ]
}